{
  "cells": [
    {
      "cell_type": "markdown",
      "metadata": {
        "id": "5bcoD9LsdTE8"
      },
      "source": [
        "# Diamond Company Analytics Challenge\n",
        "\n",
        "**Time:** 35 minutes\n",
        "\n",
        "**Scenario:** You are the new data analyst at a prestigious diamond company. The CEO has called an urgent meeting and needs answers to critical business questions about the inventory.\n",
        "\n",
        "**Your Mission:** Analyze the diamond inventory data and provide insights to guide strategic decisions."
      ]
    },
    {
      "cell_type": "code",
      "execution_count": null,
      "metadata": {
        "id": "6v__X2tDdTE9",
        "outputId": "37e0e753-4de4-4994-b871-de99547aab56",
        "colab": {
          "base_uri": "https://localhost:8080/"
        }
      },
      "outputs": [
        {
          "output_type": "stream",
          "name": "stdout",
          "text": [
            "Loading diamonds dataset...\n",
            "Dataset loaded successfully!\n"
          ]
        }
      ],
      "source": [
        "import polars as pl\n",
        "\n",
        "# Load the diamonds dataset\n",
        "print(\"Loading diamonds dataset...\")\n",
        "df = pl.read_csv('https://raw.githubusercontent.com/pycaret/pycaret/master/datasets/diamond.csv')\n",
        "print(\"Dataset loaded successfully!\")"
      ]
    },
    {
      "cell_type": "markdown",
      "metadata": {
        "id": "3L3NxBGddTE9"
      },
      "source": [
        "## Section 1: Initial Inventory Assessment (5 minutes)\n",
        "\n",
        "The CEO walks in: \"Before we dive into specifics, I need to understand what we're working with. Give me the basics about our inventory database.\""
      ]
    },
    {
      "cell_type": "markdown",
      "metadata": {
        "id": "z-zhxlrddTE9"
      },
      "source": [
        "### Question 1: \"How extensive is our inventory database?\"\n",
        "\n",
        "The CEO needs to know the scale of data you're analyzing."
      ]
    },
    {
      "cell_type": "code",
      "execution_count": 2,
      "metadata": {
        "id": "fswUXTNbdTE9",
        "colab": {
          "base_uri": "https://localhost:8080/",
          "height": 71
        },
        "outputId": "3d00c8ac-00a8-4e94-d75c-bd36b6483c5b"
      },
      "outputs": [
        {
          "output_type": "stream",
          "name": "stdout",
          "text": [
            "Loading diamonds dataset...\n",
            "Dataset loaded successfully!\n"
          ]
        },
        {
          "output_type": "display_data",
          "data": {
            "text/plain": [
              "(6000, 8)"
            ]
          },
          "metadata": {}
        }
      ],
      "source": [
        "import polars as pl\n",
        "\n",
        "# Load the diamonds dataset\n",
        "print(\"Loading diamonds dataset...\")\n",
        "df = pl.read_csv('https://raw.githubusercontent.com/pycaret/pycaret/master/datasets/diamond.csv')\n",
        "print(\"Dataset loaded successfully!\")\n",
        "\n",
        "# Your code here:\n",
        "display(df.shape)"
      ]
    },
    {
      "cell_type": "markdown",
      "metadata": {
        "id": "uENahQdZdTE-"
      },
      "source": [
        "### Question 2: \"What information do we track about each diamond?\"\n",
        "\n",
        "List all the characteristics we record."
      ]
    },
    {
      "cell_type": "code",
      "execution_count": 3,
      "metadata": {
        "id": "UwQ1-MlVdTE-",
        "colab": {
          "base_uri": "https://localhost:8080/"
        },
        "outputId": "e6b7c40e-193c-4992-8c92-4adb59f084ba"
      },
      "outputs": [
        {
          "output_type": "execute_result",
          "data": {
            "text/plain": [
              "['Carat Weight',\n",
              " 'Cut',\n",
              " 'Color',\n",
              " 'Clarity',\n",
              " 'Polish',\n",
              " 'Symmetry',\n",
              " 'Report',\n",
              " 'Price']"
            ]
          },
          "metadata": {},
          "execution_count": 3
        }
      ],
      "source": [
        "# Your code here:\n",
        "\n",
        "df.columns"
      ]
    },
    {
      "cell_type": "markdown",
      "metadata": {
        "id": "1HT6bvLkdTE-"
      },
      "source": [
        "### Question 3: \"When I look at one line in this database, what am I looking at?\"\n",
        "\n",
        "Explain in business terms:"
      ]
    },
    {
      "cell_type": "markdown",
      "metadata": {
        "id": "mYAhe9lKdTE-"
      },
      "source": [
        "**Your answer:** Each row represents: Each row in the database is representing one individual diamond."
      ]
    },
    {
      "cell_type": "markdown",
      "metadata": {
        "id": "fSwa3SMPdTE-"
      },
      "source": [
        "## Section 2: Strategic Business Questions (20 minutes)\n",
        "\n",
        "The CEO continues: \"Now let's get to the important questions. Our board meeting is tomorrow and I need concrete numbers.\""
      ]
    },
    {
      "cell_type": "markdown",
      "metadata": {
        "id": "LiBjZ88ndTE_"
      },
      "source": [
        "### Question 4: \"We're considering expanding our storage facilities. How many total carats do we have in inventory? I need to know if our vaults can handle the weight.\"\n",
        "\n",
        "Think about what measurement would help answer this."
      ]
    },
    {
      "cell_type": "code",
      "execution_count": 5,
      "metadata": {
        "id": "9J4x5WpTdTE_",
        "colab": {
          "base_uri": "https://localhost:8080/"
        },
        "outputId": "cbf26752-12ac-45e4-ec71-9d321dbf94dc"
      },
      "outputs": [
        {
          "output_type": "stream",
          "name": "stdout",
          "text": [
            "Total carats in inventory: 8007.120000000001\n",
            "Total grams in inventory: 1601.4240000000002\n",
            "Total kilograms in inventory: 1.6014240000000002\n",
            "Total carats in inventory: 8007.120000000001\n",
            "Approximate total weight in inventory: 1.6014240000000002 kg\n"
          ]
        }
      ],
      "source": [
        "# Your code here:\n",
        "\n",
        "total_carats = df['Carat Weight'].sum()\n",
        "print(f\"Total carats in inventory: {total_carats}\")\n",
        "total_grams = df['Carat Weight'].sum() * 0.2\n",
        "print(f\"Total grams in inventory: {total_grams}\")\n",
        "total_kg = df['Carat Weight'].sum() * 0.2 / 1000\n",
        "print(f\"Total kilograms in inventory: {total_kg}\")\n",
        "\n",
        "print(f\"Total carats in inventory: {total_carats}\")\n",
        "print(f\"Approximate total weight in inventory: {total_kg} kg\")"
      ]
    },
    {
      "cell_type": "markdown",
      "metadata": {
        "id": "i3mHIIVqdTE_"
      },
      "source": [
        "### Question 5: \"Our new marketing campaign claims we have 'the widest variety of cuts in the industry.' Can you verify this?\"\n",
        "\n",
        "The CEO wants to know about variety, not quantity."
      ]
    },
    {
      "cell_type": "code",
      "execution_count": 7,
      "metadata": {
        "id": "5ZkEd81gdTE_",
        "colab": {
          "base_uri": "https://localhost:8080/"
        },
        "outputId": "382336be-b6af-400b-ffa6-7aee04eced0e"
      },
      "outputs": [
        {
          "output_type": "stream",
          "name": "stdout",
          "text": [
            "Number of distinct cuts: 5\n"
          ]
        }
      ],
      "source": [
        "# Your code here:\n",
        "\n",
        "n_cuts = df.select(pl.col('Cut').n_unique().alias(\"distinct_cuts\")).item()\n",
        "cuts = df.select(pl.col('Cut').unique().sort())\n",
        "print(f\"Number of distinct cuts: {n_cuts}\")"
      ]
    },
    {
      "cell_type": "markdown",
      "metadata": {
        "id": "h0AlAoYcdTE_"
      },
      "source": [
        "### Question 6: \"I'm meeting with our insurance company. They need to know our price exposure - what's our most and least valuable diamond?\""
      ]
    },
    {
      "cell_type": "code",
      "execution_count": 9,
      "metadata": {
        "id": "oS4KrpPldTE_",
        "colab": {
          "base_uri": "https://localhost:8080/"
        },
        "outputId": "42b411ca-0417-464f-a752-9e4fec544e24"
      },
      "outputs": [
        {
          "output_type": "stream",
          "name": "stdout",
          "text": [
            "shape: (1, 3)\n",
            "┌───────────┬──────────────┬───────────┐\n",
            "│ min_price ┆ avg_price    ┆ max_price │\n",
            "│ ---       ┆ ---          ┆ ---       │\n",
            "│ i64       ┆ f64          ┆ i64       │\n",
            "╞═══════════╪══════════════╪═══════════╡\n",
            "│ 2184      ┆ 11791.579333 ┆ 101561    │\n",
            "└───────────┴──────────────┴───────────┘\n",
            "Most valuable diamond: 101561\n",
            "Least valuable diamond: 2184\n"
          ]
        }
      ],
      "source": [
        "# Your code here:\n",
        "\n",
        "Statistics = df.select(\n",
        "    (\n",
        "        pl.col('Price').min().alias('min_price'),\n",
        "        pl.col('Price').mean().alias('avg_price'),\n",
        "        pl.col('Price').max().alias('max_price'),\n",
        "\n",
        "    )\n",
        ")\n",
        "print(Statistics)\n",
        "\n",
        "print(f\"Most valuable diamond: {df['Price'].max()}\")\n",
        "print(f\"Least valuable diamond: {df['Price'].min()}\")"
      ]
    },
    {
      "cell_type": "markdown",
      "metadata": {
        "id": "cgT4GtdKdTE_"
      },
      "source": [
        "### Question 7: \"Which color grades should we focus on in our premium line? I need typical prices across our color spectrum.\"\n",
        "\n",
        "The CEO wants to understand pricing patterns."
      ]
    },
    {
      "cell_type": "code",
      "execution_count": 11,
      "metadata": {
        "id": "_RO77NQidTE_",
        "colab": {
          "base_uri": "https://localhost:8080/"
        },
        "outputId": "54e5a704-be76-4708-fe8d-34d095daa2df"
      },
      "outputs": [
        {
          "output_type": "stream",
          "name": "stdout",
          "text": [
            "shape: (6, 2)\n",
            "┌───────┬──────────────┐\n",
            "│ Color ┆ avg_price    │\n",
            "│ ---   ┆ ---          │\n",
            "│ str   ┆ f64          │\n",
            "╞═══════╪══════════════╡\n",
            "│ I     ┆ 8989.636364  │\n",
            "│ H     ┆ 10487.347544 │\n",
            "│ E     ┆ 11539.190231 │\n",
            "│ G     ┆ 12520.050633 │\n",
            "│ F     ┆ 12712.241856 │\n",
            "│ D     ┆ 15255.783661 │\n",
            "└───────┴──────────────┘\n"
          ]
        }
      ],
      "source": [
        "# Your code here:\n",
        "\n",
        "color_avg = (\n",
        "    df.group_by (\"Color\")\n",
        "    .agg(\n",
        "        pl.col('Price').mean().alias('avg_price')\n",
        "    )\n",
        "    .sort('avg_price')\n",
        ")\n",
        "print(color_avg)"
      ]
    },
    {
      "cell_type": "markdown",
      "metadata": {
        "id": "nptKeVYydTE_"
      },
      "source": [
        "**Reflection:** After analyzing by color, how has your view of the data changed? What does each row in your result represent now?"
      ]
    },
    {
      "cell_type": "markdown",
      "metadata": {
        "id": "KnlQpLLydTE_"
      },
      "source": [
        "**Your answer:** New grain = one row per color grade.\n",
        "\n",
        "\n"
      ]
    },
    {
      "cell_type": "markdown",
      "metadata": {
        "id": "EUkI_aCkdTE_"
      },
      "source": [
        "## Section 3: Advanced Strategic Analysis (10 minutes)\n",
        "\n",
        "The CEO leans forward: \"These next questions will shape our strategy for next year.\""
      ]
    },
    {
      "cell_type": "markdown",
      "metadata": {
        "id": "C-Q8KijddTE_"
      },
      "source": [
        "### Question 8: \"We're thinking of specializing in certain clarity grades. For our investor deck, I need a complete breakdown showing: how many diamonds we have in each clarity grade, their typical price, and the total carats we're holding for each grade.\""
      ]
    },
    {
      "cell_type": "code",
      "execution_count": 13,
      "metadata": {
        "id": "o-aqcYHrdTFA",
        "colab": {
          "base_uri": "https://localhost:8080/"
        },
        "outputId": "45db84c7-16ed-4d4c-8112-6a31c015a505"
      },
      "outputs": [
        {
          "output_type": "stream",
          "name": "stdout",
          "text": [
            "shape: (7, 6)\n",
            "┌─────────┬──────┬───────────┬─────────────┬──────────────┬─────────────┐\n",
            "│ Clarity ┆ n    ┆ avg_carat ┆ total_carat ┆ avg_price    ┆ total_price │\n",
            "│ ---     ┆ ---  ┆ ---       ┆ ---         ┆ ---          ┆ ---         │\n",
            "│ str     ┆ u32  ┆ f64       ┆ f64         ┆ f64          ┆ i64         │\n",
            "╞═════════╪══════╪═══════════╪═════════════╪══════════════╪═════════════╡\n",
            "│ VVS2    ┆ 666  ┆ 1.316186  ┆ 876.58      ┆ 14142.177177 ┆ 9418690     │\n",
            "│ VS2     ┆ 1575 ┆ 1.378292  ┆ 2170.81     ┆ 11809.053333 ┆ 18599259    │\n",
            "│ SI1     ┆ 2059 ┆ 1.245114  ┆ 2563.69     ┆ 8018.864012  ┆ 16510841    │\n",
            "│ VVS1    ┆ 285  ┆ 1.366421  ┆ 389.43      ┆ 16845.680702 ┆ 4801019     │\n",
            "│ IF      ┆ 219  ┆ 1.442922  ┆ 316.0       ┆ 22105.844749 ┆ 4841180     │\n",
            "│ VS1     ┆ 1192 ┆ 1.411695  ┆ 1682.74     ┆ 13694.113255 ┆ 16323383    │\n",
            "│ FL      ┆ 4    ┆ 1.9675    ┆ 7.87        ┆ 63776.0      ┆ 255104      │\n",
            "└─────────┴──────┴───────────┴─────────────┴──────────────┴─────────────┘\n"
          ]
        }
      ],
      "source": [
        "# Your code here:\n",
        "\n",
        "clarity_summary = (\n",
        "    df.group_by (\"Clarity\")\n",
        "    .agg(\n",
        "        pl.len().alias(\"n\"),\n",
        "        pl.col(\"Carat Weight\").mean().alias(\"avg_carat\"),\n",
        "        pl.col(\"Carat Weight\").sum().alias(\"total_carat\"),\n",
        "        pl.col(\"Price\").mean().alias(\"avg_price\"),\n",
        "        pl.col(\"Price\").sum().alias(\"total_price\"),\n",
        "    )\n",
        ")\n",
        "print(clarity_summary)"
      ]
    },
    {
      "cell_type": "markdown",
      "metadata": {
        "id": "VWvnJINudTFA"
      },
      "source": [
        "### Question 9: \"My luxury competitor claims they have the best prices for every cut-color combination. Show me our pricing structure across these combinations - I want to see where we're competitive.\""
      ]
    },
    {
      "cell_type": "code",
      "execution_count": 15,
      "metadata": {
        "id": "n58x7mdhdTFA",
        "colab": {
          "base_uri": "https://localhost:8080/"
        },
        "outputId": "507228da-7f5a-46cc-c9ed-7b7f1b90643d"
      },
      "outputs": [
        {
          "output_type": "stream",
          "name": "stdout",
          "text": [
            "shape: (32, 5)\n",
            "┌─────────────────┬─────────┬─────┬──────────────┬─────────────┐\n",
            "│ Cut             ┆ Clarity ┆ n   ┆ avg_price    ┆ total_price │\n",
            "│ ---             ┆ ---     ┆ --- ┆ ---          ┆ ---         │\n",
            "│ str             ┆ str     ┆ u32 ┆ f64          ┆ i64         │\n",
            "╞═════════════════╪═════════╪═════╪══════════════╪═════════════╡\n",
            "│ Ideal           ┆ FL      ┆ 2   ┆ 65180.5      ┆ 130361      │\n",
            "│ Signature-Ideal ┆ FL      ┆ 2   ┆ 62371.5      ┆ 124743      │\n",
            "│ Signature-Ideal ┆ IF      ┆ 7   ┆ 30733.428571 ┆ 215134      │\n",
            "│ Very Good       ┆ IF      ┆ 93  ┆ 22431.0      ┆ 2086083     │\n",
            "│ Ideal           ┆ IF      ┆ 102 ┆ 22052.911765 ┆ 2249397     │\n",
            "│ …               ┆ …       ┆ …   ┆ …            ┆ …           │\n",
            "│ Good            ┆ SI1     ┆ 347 ┆ 7430.792507  ┆ 2578485     │\n",
            "│ Signature-Ideal ┆ SI1     ┆ 66  ┆ 7296.575758  ┆ 481574      │\n",
            "│ Fair            ┆ VS1     ┆ 17  ┆ 5035.941176  ┆ 85611       │\n",
            "│ Fair            ┆ SI1     ┆ 69  ┆ 4928.608696  ┆ 340074      │\n",
            "│ Fair            ┆ VVS1    ┆ 1   ┆ 4115.0       ┆ 4115        │\n",
            "└─────────────────┴─────────┴─────┴──────────────┴─────────────┘\n"
          ]
        }
      ],
      "source": [
        "# Your code here:\n",
        "\n",
        "cut_clarity = (\n",
        "    df.group_by([\"Cut\", \"Clarity\"])\n",
        "    .agg([\n",
        "        pl.len().alias(\"n\"),\n",
        "        pl.col(\"Price\").mean().alias(\"avg_price\"),\n",
        "        pl.col(\"Price\").sum().alias(\"total_price\"),\n",
        "    ])\n",
        "    .sort([\"avg_price\", \"n\"], descending=[True, True])\n",
        ")\n",
        "print(cut_clarity)"
      ]
    },
    {
      "cell_type": "markdown",
      "metadata": {
        "id": "tr5cdjTPdTFA"
      },
      "source": [
        "**Reflection:** How specific is your analysis now? What level of detail does each row represent?"
      ]
    },
    {
      "cell_type": "markdown",
      "metadata": {
        "id": "OwcvDd6WdTFA"
      },
      "source": [
        "**Your answer:** New grain = one row per cut"
      ]
    },
    {
      "cell_type": "markdown",
      "metadata": {
        "id": "jdUU8RrgdTFA"
      },
      "source": [
        "### Question 10: URGENT - \"Our biggest client is interested in purchasing entire inventory segments. They asked: 'Which color-cut combinations represent your highest total inventory value?' Show me the top 5 most valuable inventory segments by total worth, and include how many diamonds are in each segment.\"\n",
        "\n",
        "This is critical for tomorrow's negotiation."
      ]
    },
    {
      "cell_type": "code",
      "execution_count": 18,
      "metadata": {
        "id": "wDE9Xe1UdTFA",
        "colab": {
          "base_uri": "https://localhost:8080/"
        },
        "outputId": "c39b34a9-d3b0-4e45-c969-cc4ff049a65c"
      },
      "outputs": [
        {
          "output_type": "stream",
          "name": "stdout",
          "text": [
            "Top 5 most valuable inventory segments by color-cut combination:\n",
            "shape: (5, 4)\n",
            "┌───────┬───────────┬─────┬─────────────┐\n",
            "│ Color ┆ Cut       ┆ n   ┆ total_value │\n",
            "│ ---   ┆ ---       ┆ --- ┆ ---         │\n",
            "│ str   ┆ str       ┆ u32 ┆ i64         │\n",
            "╞═══════╪═══════════╪═════╪═════════════╡\n",
            "│ G     ┆ Ideal     ┆ 690 ┆ 9363514     │\n",
            "│ G     ┆ Very Good ┆ 578 ┆ 7140620     │\n",
            "│ F     ┆ Very Good ┆ 455 ┆ 5648327     │\n",
            "│ F     ┆ Ideal     ┆ 363 ┆ 5346782     │\n",
            "│ H     ┆ Ideal     ┆ 458 ┆ 5279687     │\n",
            "└───────┴───────────┴─────┴─────────────┘\n"
          ]
        }
      ],
      "source": [
        "# Your code here:\n",
        "\n",
        "color_cut_value = (\n",
        "    df.group_by([\"Color\", \"Cut\"])\n",
        "    .agg([\n",
        "        pl.len().alias(\"n\"),\n",
        "        pl.col(\"Price\").sum().alias(\"total_value\"),\n",
        "    ])\n",
        "    .sort(\"total_value\", descending=True)\n",
        "    .head(5)\n",
        ")\n",
        "\n",
        "print(\"Top 5 most valuable inventory segments by color-cut combination:\")\n",
        "print(color_cut_value)"
      ]
    },
    {
      "cell_type": "markdown",
      "metadata": {
        "id": "-DZLYeHndTFA"
      },
      "source": [
        "## Debrief\n",
        "\n",
        "Congratulations! You've just completed your first day as the diamond company's data analyst.\n",
        "\n",
        "Remember:\n",
        "- CEOs speak in business language, not technical terms\n",
        "- Always understand what each row represents before analyzing\n",
        "- Business questions contain clues about which operations to use"
      ]
    }
  ],
  "metadata": {
    "kernelspec": {
      "display_name": "Python 3",
      "language": "python",
      "name": "python3"
    },
    "language_info": {
      "codemirror_mode": {
        "name": "ipython",
        "version": 3
      },
      "file_extension": ".py",
      "mimetype": "text/x-python",
      "name": "python",
      "nbconvert_exporter": "python",
      "pygments_lexer": "ipython3",
      "version": "3.12.0"
    },
    "colab": {
      "provenance": []
    }
  },
  "nbformat": 4,
  "nbformat_minor": 0
}